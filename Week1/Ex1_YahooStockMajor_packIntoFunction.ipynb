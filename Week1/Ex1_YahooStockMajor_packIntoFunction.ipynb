{
 "cells": [
  {
   "cell_type": "code",
   "execution_count": 3,
   "metadata": {
    "collapsed": true
   },
   "outputs": [],
   "source": [
    "import requests\n",
    "import re\n",
    "from datetime import datetime\n",
    "import pandas as pd\n",
    "import numpy as np\n"
   ]
  },
  {
   "cell_type": "code",
   "execution_count": 19,
   "metadata": {
    "collapsed": true
   },
   "outputs": [],
   "source": [
    "class NotFindDataError(Exception):\n",
    "    def __init__(self, url):\n",
    "        self.url\n",
    "    "
   ]
  },
  {
   "cell_type": "code",
   "execution_count": null,
   "metadata": {
    "collapsed": true
   },
   "outputs": [],
   "source": [
    "def yahooStockMajor(stock_id):\n",
    "    url = \"https://tw.stock.yahoo.com/d/s/major_{stock_id}.html\".format(stock_id=stock_id)\n",
    "    res = requests.get(url)\n",
    "    res.raise_for_status()\n",
    "    \n",
    "    tables = pd.read_html(res.text)\n",
    "    filtered_tables = filter(lambda xx:xx.shape[1] == 8, tables)\n",
    "    if len(filtered_tables) == 0:\n",
    "        raise NotFindDataError(url)\n",
    "    else:\n",
    "        df = filter(lambda xx:xx.shape[1] == 8, tables)[0]\n",
    "    \n",
    "    df = pd.DataFrame(np.r_[df.values[1:,0:3], df.values[1:,4:7]],columns=[\"broker\",\"long\",\"short\"])\n",
    "    \n",
    "    pat = re.compile(u\"([0-9]+ /[0-9]+ /[0-9]+)\")\n",
    "    date = map(int,pat.findall(res.text)[0].split(\"/\"))\n",
    "    date[0] = 1911 + date[0]\n",
    "    date = datetime(*date)\n",
    "    \n",
    "    df[\"stock_id\"] = stock_id\n",
    "    df[\"date\"] = date\n",
    "    \n",
    "    df = df[[\"date\",\"stock_id\", \"broker\",\"long\",\"short\"]]\n",
    "    \n",
    "    return df\n",
    "    \n",
    "    "
   ]
  },
  {
   "cell_type": "code",
   "execution_count": 13,
   "metadata": {
    "collapsed": true
   },
   "outputs": [],
   "source": [
    "stock_id = 2451\n",
    "stock_id = 1542\n",
    "url = \"https://tw.stock.yahoo.com/d/s/major_{stock_id}.html\".format(stock_id=stock_id)"
   ]
  },
  {
   "cell_type": "code",
   "execution_count": 14,
   "metadata": {
    "collapsed": false
   },
   "outputs": [],
   "source": [
    "res = requests.get(url)"
   ]
  },
  {
   "cell_type": "code",
   "execution_count": 17,
   "metadata": {
    "collapsed": false
   },
   "outputs": [
    {
     "name": "stdout",
     "output_type": "stream",
     "text": [
      "404 Client Error: Not Found\n"
     ]
    }
   ],
   "source": [
    "try:\n",
    "    res.raise_for_status()\n",
    "except requests.HTTPError as e:\n",
    "    print e"
   ]
  },
  {
   "cell_type": "code",
   "execution_count": 12,
   "metadata": {
    "collapsed": false
   },
   "outputs": [
    {
     "data": {
      "text/plain": [
       "200"
      ]
     },
     "execution_count": 12,
     "metadata": {},
     "output_type": "execute_result"
    }
   ],
   "source": [
    "res.status_code"
   ]
  },
  {
   "cell_type": "code",
   "execution_count": 70,
   "metadata": {
    "collapsed": false
   },
   "outputs": [],
   "source": [
    "# res.encoding = \"utf8\""
   ]
  },
  {
   "cell_type": "code",
   "execution_count": 18,
   "metadata": {
    "collapsed": false
   },
   "outputs": [],
   "source": [
    "# print res.text"
   ]
  },
  {
   "cell_type": "code",
   "execution_count": 72,
   "metadata": {
    "collapsed": true
   },
   "outputs": [],
   "source": [
    "pat = re.compile(u\"([0-9]+ /[0-9]+ /[0-9]+)\")"
   ]
  },
  {
   "cell_type": "code",
   "execution_count": 73,
   "metadata": {
    "collapsed": false
   },
   "outputs": [],
   "source": [
    "date = map(int,pat.findall(res.text)[0].split(\"/\"))\n",
    "date[0] = 1911 + date[0]"
   ]
  },
  {
   "cell_type": "code",
   "execution_count": 74,
   "metadata": {
    "collapsed": false
   },
   "outputs": [],
   "source": [
    "date = datetime(*date)"
   ]
  },
  {
   "cell_type": "code",
   "execution_count": 75,
   "metadata": {
    "collapsed": false
   },
   "outputs": [],
   "source": [
    "tables = pd.read_html(res.text)"
   ]
  },
  {
   "cell_type": "code",
   "execution_count": 76,
   "metadata": {
    "collapsed": false
   },
   "outputs": [],
   "source": [
    "df = filter(lambda xx:xx.shape[1] == 8, tables)[0]\n"
   ]
  },
  {
   "cell_type": "code",
   "execution_count": 77,
   "metadata": {
    "collapsed": false
   },
   "outputs": [],
   "source": [
    "df = pd.DataFrame(np.r_[df.values[1:,0:3], df.values[1:,4:7]],columns=[\"broker\",\"long\",\"short\"])"
   ]
  },
  {
   "cell_type": "code",
   "execution_count": 78,
   "metadata": {
    "collapsed": false
   },
   "outputs": [],
   "source": [
    "df[\"stock_id\"] = stock_id\n",
    "df[\"date\"] = date"
   ]
  },
  {
   "cell_type": "code",
   "execution_count": 79,
   "metadata": {
    "collapsed": false
   },
   "outputs": [],
   "source": [
    "df = df[[\"date\",\"stock_id\", \"broker\",\"long\",\"short\"]]"
   ]
  },
  {
   "cell_type": "code",
   "execution_count": 80,
   "metadata": {
    "collapsed": false
   },
   "outputs": [
    {
     "data": {
      "text/html": [
       "<div>\n",
       "<table border=\"1\" class=\"dataframe\">\n",
       "  <thead>\n",
       "    <tr style=\"text-align: right;\">\n",
       "      <th></th>\n",
       "      <th>date</th>\n",
       "      <th>stock_id</th>\n",
       "      <th>broker</th>\n",
       "      <th>long</th>\n",
       "      <th>short</th>\n",
       "    </tr>\n",
       "  </thead>\n",
       "  <tbody>\n",
       "    <tr>\n",
       "      <th>0</th>\n",
       "      <td>2015-09-18</td>\n",
       "      <td>2451</td>\n",
       "      <td>統一</td>\n",
       "      <td>648</td>\n",
       "      <td>14</td>\n",
       "    </tr>\n",
       "    <tr>\n",
       "      <th>1</th>\n",
       "      <td>2015-09-18</td>\n",
       "      <td>2451</td>\n",
       "      <td>國泰證券</td>\n",
       "      <td>406</td>\n",
       "      <td>12</td>\n",
       "    </tr>\n",
       "    <tr>\n",
       "      <th>2</th>\n",
       "      <td>2015-09-18</td>\n",
       "      <td>2451</td>\n",
       "      <td>元富</td>\n",
       "      <td>249</td>\n",
       "      <td>21</td>\n",
       "    </tr>\n",
       "    <tr>\n",
       "      <th>3</th>\n",
       "      <td>2015-09-18</td>\n",
       "      <td>2451</td>\n",
       "      <td>瑞士信貸</td>\n",
       "      <td>117</td>\n",
       "      <td>27</td>\n",
       "    </tr>\n",
       "    <tr>\n",
       "      <th>4</th>\n",
       "      <td>2015-09-18</td>\n",
       "      <td>2451</td>\n",
       "      <td>凱基證券</td>\n",
       "      <td>121</td>\n",
       "      <td>90</td>\n",
       "    </tr>\n",
       "    <tr>\n",
       "      <th>5</th>\n",
       "      <td>2015-09-18</td>\n",
       "      <td>2451</td>\n",
       "      <td>鑫豐證券</td>\n",
       "      <td>29</td>\n",
       "      <td>0</td>\n",
       "    </tr>\n",
       "    <tr>\n",
       "      <th>6</th>\n",
       "      <td>2015-09-18</td>\n",
       "      <td>2451</td>\n",
       "      <td>永豐金證券</td>\n",
       "      <td>42</td>\n",
       "      <td>24</td>\n",
       "    </tr>\n",
       "    <tr>\n",
       "      <th>7</th>\n",
       "      <td>2015-09-18</td>\n",
       "      <td>2451</td>\n",
       "      <td>群益金鼎</td>\n",
       "      <td>63</td>\n",
       "      <td>49</td>\n",
       "    </tr>\n",
       "    <tr>\n",
       "      <th>8</th>\n",
       "      <td>2015-09-18</td>\n",
       "      <td>2451</td>\n",
       "      <td>日盛證券</td>\n",
       "      <td>43</td>\n",
       "      <td>31</td>\n",
       "    </tr>\n",
       "    <tr>\n",
       "      <th>9</th>\n",
       "      <td>2015-09-18</td>\n",
       "      <td>2451</td>\n",
       "      <td>大慶證券</td>\n",
       "      <td>7</td>\n",
       "      <td>0</td>\n",
       "    </tr>\n",
       "    <tr>\n",
       "      <th>10</th>\n",
       "      <td>2015-09-18</td>\n",
       "      <td>2451</td>\n",
       "      <td>安泰</td>\n",
       "      <td>7</td>\n",
       "      <td>2</td>\n",
       "    </tr>\n",
       "    <tr>\n",
       "      <th>11</th>\n",
       "      <td>2015-09-18</td>\n",
       "      <td>2451</td>\n",
       "      <td>國票證券</td>\n",
       "      <td>16</td>\n",
       "      <td>11</td>\n",
       "    </tr>\n",
       "    <tr>\n",
       "      <th>12</th>\n",
       "      <td>2015-09-18</td>\n",
       "      <td>2451</td>\n",
       "      <td>兆豐證券</td>\n",
       "      <td>19</td>\n",
       "      <td>16</td>\n",
       "    </tr>\n",
       "    <tr>\n",
       "      <th>13</th>\n",
       "      <td>2015-09-18</td>\n",
       "      <td>2451</td>\n",
       "      <td>新光證券</td>\n",
       "      <td>13</td>\n",
       "      <td>10</td>\n",
       "    </tr>\n",
       "    <tr>\n",
       "      <th>14</th>\n",
       "      <td>2015-09-18</td>\n",
       "      <td>2451</td>\n",
       "      <td>彰銀</td>\n",
       "      <td>3</td>\n",
       "      <td>0</td>\n",
       "    </tr>\n",
       "    <tr>\n",
       "      <th>15</th>\n",
       "      <td>2015-09-18</td>\n",
       "      <td>2451</td>\n",
       "      <td>台灣摩根士</td>\n",
       "      <td>3</td>\n",
       "      <td>678</td>\n",
       "    </tr>\n",
       "    <tr>\n",
       "      <th>16</th>\n",
       "      <td>2015-09-18</td>\n",
       "      <td>2451</td>\n",
       "      <td>摩根大通</td>\n",
       "      <td>0</td>\n",
       "      <td>213</td>\n",
       "    </tr>\n",
       "    <tr>\n",
       "      <th>17</th>\n",
       "      <td>2015-09-18</td>\n",
       "      <td>2451</td>\n",
       "      <td>美商高盛</td>\n",
       "      <td>60</td>\n",
       "      <td>165</td>\n",
       "    </tr>\n",
       "    <tr>\n",
       "      <th>18</th>\n",
       "      <td>2015-09-18</td>\n",
       "      <td>2451</td>\n",
       "      <td>新加坡商瑞</td>\n",
       "      <td>2</td>\n",
       "      <td>97</td>\n",
       "    </tr>\n",
       "    <tr>\n",
       "      <th>19</th>\n",
       "      <td>2015-09-18</td>\n",
       "      <td>2451</td>\n",
       "      <td>香港上海匯</td>\n",
       "      <td>0</td>\n",
       "      <td>69</td>\n",
       "    </tr>\n",
       "    <tr>\n",
       "      <th>20</th>\n",
       "      <td>2015-09-18</td>\n",
       "      <td>2451</td>\n",
       "      <td>第一金</td>\n",
       "      <td>5</td>\n",
       "      <td>60</td>\n",
       "    </tr>\n",
       "    <tr>\n",
       "      <th>21</th>\n",
       "      <td>2015-09-18</td>\n",
       "      <td>2451</td>\n",
       "      <td>花旗環球</td>\n",
       "      <td>0</td>\n",
       "      <td>55</td>\n",
       "    </tr>\n",
       "    <tr>\n",
       "      <th>22</th>\n",
       "      <td>2015-09-18</td>\n",
       "      <td>2451</td>\n",
       "      <td>港商德意志</td>\n",
       "      <td>16</td>\n",
       "      <td>65</td>\n",
       "    </tr>\n",
       "    <tr>\n",
       "      <th>23</th>\n",
       "      <td>2015-09-18</td>\n",
       "      <td>2451</td>\n",
       "      <td>美林</td>\n",
       "      <td>13</td>\n",
       "      <td>55</td>\n",
       "    </tr>\n",
       "    <tr>\n",
       "      <th>24</th>\n",
       "      <td>2015-09-18</td>\n",
       "      <td>2451</td>\n",
       "      <td>台灣東方匯</td>\n",
       "      <td>0</td>\n",
       "      <td>40</td>\n",
       "    </tr>\n",
       "    <tr>\n",
       "      <th>25</th>\n",
       "      <td>2015-09-18</td>\n",
       "      <td>2451</td>\n",
       "      <td>華南永昌</td>\n",
       "      <td>21</td>\n",
       "      <td>41</td>\n",
       "    </tr>\n",
       "    <tr>\n",
       "      <th>26</th>\n",
       "      <td>2015-09-18</td>\n",
       "      <td>2451</td>\n",
       "      <td>台灣工銀</td>\n",
       "      <td>1</td>\n",
       "      <td>19</td>\n",
       "    </tr>\n",
       "    <tr>\n",
       "      <th>27</th>\n",
       "      <td>2015-09-18</td>\n",
       "      <td>2451</td>\n",
       "      <td>亞東</td>\n",
       "      <td>11</td>\n",
       "      <td>17</td>\n",
       "    </tr>\n",
       "    <tr>\n",
       "      <th>28</th>\n",
       "      <td>2015-09-18</td>\n",
       "      <td>2451</td>\n",
       "      <td>大昌證券</td>\n",
       "      <td>3</td>\n",
       "      <td>8</td>\n",
       "    </tr>\n",
       "    <tr>\n",
       "      <th>29</th>\n",
       "      <td>2015-09-18</td>\n",
       "      <td>2451</td>\n",
       "      <td>元大證券</td>\n",
       "      <td>137</td>\n",
       "      <td>141</td>\n",
       "    </tr>\n",
       "  </tbody>\n",
       "</table>\n",
       "</div>"
      ],
      "text/plain": [
       "         date  stock_id broker long short\n",
       "0  2015-09-18      2451     統一  648    14\n",
       "1  2015-09-18      2451   國泰證券  406    12\n",
       "2  2015-09-18      2451     元富  249    21\n",
       "3  2015-09-18      2451   瑞士信貸  117    27\n",
       "4  2015-09-18      2451   凱基證券  121    90\n",
       "5  2015-09-18      2451   鑫豐證券   29     0\n",
       "6  2015-09-18      2451  永豐金證券   42    24\n",
       "7  2015-09-18      2451   群益金鼎   63    49\n",
       "8  2015-09-18      2451   日盛證券   43    31\n",
       "9  2015-09-18      2451   大慶證券    7     0\n",
       "10 2015-09-18      2451     安泰    7     2\n",
       "11 2015-09-18      2451   國票證券   16    11\n",
       "12 2015-09-18      2451   兆豐證券   19    16\n",
       "13 2015-09-18      2451   新光證券   13    10\n",
       "14 2015-09-18      2451     彰銀    3     0\n",
       "15 2015-09-18      2451  台灣摩根士    3   678\n",
       "16 2015-09-18      2451   摩根大通    0   213\n",
       "17 2015-09-18      2451   美商高盛   60   165\n",
       "18 2015-09-18      2451  新加坡商瑞    2    97\n",
       "19 2015-09-18      2451  香港上海匯    0    69\n",
       "20 2015-09-18      2451    第一金    5    60\n",
       "21 2015-09-18      2451   花旗環球    0    55\n",
       "22 2015-09-18      2451  港商德意志   16    65\n",
       "23 2015-09-18      2451     美林   13    55\n",
       "24 2015-09-18      2451  台灣東方匯    0    40\n",
       "25 2015-09-18      2451   華南永昌   21    41\n",
       "26 2015-09-18      2451   台灣工銀    1    19\n",
       "27 2015-09-18      2451     亞東   11    17\n",
       "28 2015-09-18      2451   大昌證券    3     8\n",
       "29 2015-09-18      2451   元大證券  137   141"
      ]
     },
     "execution_count": 80,
     "metadata": {},
     "output_type": "execute_result"
    }
   ],
   "source": [
    "df"
   ]
  },
  {
   "cell_type": "code",
   "execution_count": null,
   "metadata": {
    "collapsed": true
   },
   "outputs": [],
   "source": []
  },
  {
   "cell_type": "code",
   "execution_count": null,
   "metadata": {
    "collapsed": true
   },
   "outputs": [],
   "source": []
  }
 ],
 "metadata": {
  "kernelspec": {
   "display_name": "Python 2",
   "language": "python",
   "name": "python2"
  },
  "language_info": {
   "codemirror_mode": {
    "name": "ipython",
    "version": 2
   },
   "file_extension": ".py",
   "mimetype": "text/x-python",
   "name": "python",
   "nbconvert_exporter": "python",
   "pygments_lexer": "ipython2",
   "version": "2.7.10"
  }
 },
 "nbformat": 4,
 "nbformat_minor": 0
}

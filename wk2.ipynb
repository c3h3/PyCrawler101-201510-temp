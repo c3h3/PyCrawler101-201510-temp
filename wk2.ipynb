{
 "cells": [
  {
   "cell_type": "markdown",
   "metadata": {
    "slideshow": {
     "slide_type": "slide"
    }
   },
   "source": [
    "Py-Crawler week2"
   ]
  },
  {
   "cell_type": "markdown",
   "metadata": {
    "collapsed": true,
    "slideshow": {
     "slide_type": "subslide"
    }
   },
   "source": [
    "關於教材授權"
   ]
  },
  {
   "cell_type": "markdown",
   "metadata": {
    "collapsed": true,
    "slideshow": {
     "slide_type": "fragment"
    }
   },
   "source": [
    "本教材之智慧財產權，\n",
    "\n",
    "屬木刻思股份有限公司所有！\n",
    "\n",
    "\n",
    "如果有朋友，覺得此教材很棒，希望能分享給\n",
    "朋友，或是拿此教材開課。非常歡迎大家來信\n",
    "至 course@agilearning.io 請求教材的使用授權\n",
    "唷！"
   ]
  },
  {
   "cell_type": "markdown",
   "metadata": {
    "collapsed": true,
    "slideshow": {
     "slide_type": "slide"
    }
   },
   "source": [
    "Content"
   ]
  },
  {
   "cell_type": "markdown",
   "metadata": {
    "collapsed": true,
    "slideshow": {
     "slide_type": "fragment"
    }
   },
   "source": [
    "1. 爬蟲設計流程\n",
    "2. HTML And JSON\n",
    "3. GET\n",
    "4. 中文網址秘密\n",
    "5. Cookie\n",
    "6. POST"
   ]
  },
  {
   "cell_type": "markdown",
   "metadata": {
    "slideshow": {
     "slide_type": "slide"
    }
   },
   "source": [
    "爬蟲 = 不斷重複connector and parser"
   ]
  },
  {
   "cell_type": "markdown",
   "metadata": {
    "slideshow": {
     "slide_type": "fragment"
    }
   },
   "source": [
    "Step 1: Connector\n",
    "\n",
    "GET or POST\n",
    "\n",
    "\n",
    "Step 2: Data Parser\n",
    "\n",
    "使用CSS selector or Xpath selector\n",
    "\n",
    "使用Regular Expression\n",
    "\n",
    "json to data.frame"
   ]
  },
  {
   "cell_type": "markdown",
   "metadata": {
    "slideshow": {
     "slide_type": "subslide"
    }
   },
   "source": [
    "GET"
   ]
  },
  {
   "cell_type": "markdown",
   "metadata": {
    "slideshow": {
     "slide_type": "fragment"
    }
   },
   "source": [
    "GET\n",
    "直接敲網址拿資料\n",
    "注意網址有時候會有參數"
   ]
  },
  {
   "cell_type": "markdown",
   "metadata": {
    "slideshow": {
     "slide_type": "slide"
    }
   },
   "source": [
    "Yahoo News"
   ]
  },
  {
   "cell_type": "markdown",
   "metadata": {
    "slideshow": {
     "slide_type": "fragment"
    }
   },
   "source": [
    "Yahoo 運動新聞 為例, 瀏覽軌跡:\n",
    "\n",
    "1. 到https://tw.news.yahoo.com/sports/\n",
    "\n",
    "2. 點連結文章 => 看文章 (文章為所需資料)\n",
    "\n",
    "爬蟲程式\n",
    "\n",
    "1. 抓新聞連結(資料頁的網址)\n",
    "\n",
    "2. 對每個連結去抓新聞內容"
   ]
  },
  {
   "cell_type": "markdown",
   "metadata": {
    "slideshow": {
     "slide_type": "slide"
    }
   },
   "source": [
    "網址中需要中文"
   ]
  },
  {
   "cell_type": "markdown",
   "metadata": {
    "slideshow": {
     "slide_type": "fragment"
    }
   },
   "source": [
    "網址不能有中文需要轉成一段密碼\n",
    "使用URLencode 進行加密，產生網址\n",
    "需使用相關函數:\n",
    "tmcn::toUTF8 => 轉UTF8編碼\n",
    "URLencode => 轉網頁用編碼\n",
    "\n",
    "%2F 為 ‘/’  # charToRaw(\"/\")\n",
    "%3A 為 ‘:’  # charToRaw(\":\")\n",
    "\n",
    "URLdecode => 解網頁用編碼"
   ]
  }
 ],
 "metadata": {
  "celltoolbar": "Slideshow",
  "kernelspec": {
   "display_name": "Python 2",
   "language": "python",
   "name": "python2"
  },
  "language_info": {
   "codemirror_mode": {
    "name": "ipython",
    "version": 2
   },
   "file_extension": ".py",
   "mimetype": "text/x-python",
   "name": "python",
   "nbconvert_exporter": "python",
   "pygments_lexer": "ipython2",
   "version": "2.7.10"
  }
 },
 "nbformat": 4,
 "nbformat_minor": 0
}
